{
 "cells": [
  {
   "cell_type": "code",
   "execution_count": 1,
   "metadata": {
    "collapsed": true,
    "pycharm": {
     "name": "#%%\n"
    }
   },
   "outputs": [],
   "source": [
    "import cv2\n",
    "\n",
    "# 학습된 얼굴 검출기 사용\n",
    "face_cascade = cv2.CascadeClassifier(\"data/haarcascade_frontalface_alt2.xml\")\n",
    "\n",
    "cam = cv2.VideoCapture(\"mp4/bts.mp4\")\n",
    "\n",
    "while True:\n",
    "    ret, movie_image = cam.read()\n",
    "\n",
    "    # 동영상으로 프레임(이미지) 받기\n",
    "    if ret is True:\n",
    "\n",
    "        # 흑백으로 변경\n",
    "        gray = cv2.cvtColor(movie_image, cv2.COLOR_BGR2GRAY)\n",
    "        # 히스토그램 평활화\n",
    "        gray = cv2.equalizeHist(gray)\n",
    "\n",
    "        # 얼굴 인식\n",
    "        faces = face_cascade.detectMultiScale(gray, 1.5, 5, 0, (20, 20))\n",
    "\n",
    "        for face in faces:\n",
    "            # 위치 값\n",
    "            x, y, w, h = face\n",
    "\n",
    "            # 얼굴 영역 가져오기\n",
    "            face_image = movie_image[y:y + h, x: x + w]\n",
    "\n",
    "            mosaic_rate = 30\n",
    "            # 픽셀 확대\n",
    "            face_image = cv2.resize(face_image, (w // mosaic_rate, h // mosaic_rate))\n",
    "\n",
    "            # 얼굴 위치에 확대한 이미지 덮어쓰기\n",
    "            face_image = cv2.resize(face_image, (w, h), interpolation=cv2.INTER_AREA)\n",
    "\n",
    "            # 원본이미지에 모자이크 처리한 얼굴 이미지 붙이기\n",
    "            movie_image[y: y + h, x:x + w] = face_image\n",
    "\n",
    "            # 얼굴 검출 사각형 그리기\n",
    "            cv2.rectangle(movie_image, face, (255, 0, 0), 4)\n",
    "        # 사이즈 변경된 이미지로 출력\n",
    "        cv2.imshow(\"movie_mosaic\", movie_image)\n",
    "    if cv2.waitKey(1) > 0:\n",
    "        break\n",
    "\n"
   ]
  }
 ],
 "metadata": {
  "kernelspec": {
   "display_name": "Python 3",
   "language": "python",
   "name": "python3"
  },
  "language_info": {
   "codemirror_mode": {
    "name": "ipython",
    "version": 2
   },
   "file_extension": ".py",
   "mimetype": "text/x-python",
   "name": "python",
   "nbconvert_exporter": "python",
   "pygments_lexer": "ipython2",
   "version": "2.7.6"
  }
 },
 "nbformat": 4,
 "nbformat_minor": 0
}