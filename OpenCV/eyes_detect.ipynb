{
 "cells": [
  {
   "cell_type": "code",
   "execution_count": 2,
   "outputs": [
    {
     "ename": "AttributeError",
     "evalue": "'tuple' object has no attribute 'any'",
     "output_type": "error",
     "traceback": [
      "\u001B[1;31m---------------------------------------------------------------------------\u001B[0m",
      "\u001B[1;31mAttributeError\u001B[0m                            Traceback (most recent call last)",
      "Input \u001B[1;32mIn [2]\u001B[0m, in \u001B[0;36m<cell line: 29>\u001B[1;34m()\u001B[0m\n\u001B[0;32m     25\u001B[0m \u001B[38;5;28;01mif\u001B[39;00m image \u001B[38;5;129;01mis\u001B[39;00m \u001B[38;5;28;01mNone\u001B[39;00m: \u001B[38;5;28;01mraise\u001B[39;00m \u001B[38;5;167;01mException\u001B[39;00m(\u001B[38;5;124m\"\u001B[39m\u001B[38;5;124m사진 읽기 에러\u001B[39m\u001B[38;5;124m\"\u001B[39m)\n\u001B[0;32m     27\u001B[0m faces \u001B[38;5;241m=\u001B[39m face_cascade\u001B[38;5;241m.\u001B[39mdetectMultiScale(gray, \u001B[38;5;241m1.1\u001B[39m, \u001B[38;5;241m2\u001B[39m, \u001B[38;5;241m0\u001B[39m, (\u001B[38;5;241m100\u001B[39m, \u001B[38;5;241m100\u001B[39m))\n\u001B[1;32m---> 29\u001B[0m \u001B[38;5;28;01mif\u001B[39;00m \u001B[43mfaces\u001B[49m\u001B[38;5;241;43m.\u001B[39;49m\u001B[43many\u001B[49m():\n\u001B[0;32m     31\u001B[0m     x, y, w, h \u001B[38;5;241m=\u001B[39m faces[\u001B[38;5;241m0\u001B[39m]\n\u001B[0;32m     33\u001B[0m     face_image \u001B[38;5;241m=\u001B[39m image[y:y \u001B[38;5;241m+\u001B[39m h, x:x \u001B[38;5;241m+\u001B[39m w]\n",
      "\u001B[1;31mAttributeError\u001B[0m: 'tuple' object has no attribute 'any'"
     ]
    }
   ],
   "source": [
    "import cv2\n",
    "import numpy as np\n",
    "\n",
    "\n",
    "def preprocessing():\n",
    "    image = cv2.imread(\"image/image2.png\")\n",
    "\n",
    "    if image is None: return None, None\n",
    "\n",
    "    gray = cv2.cvtColor(image, cv2.COLOR_BGR2GRAY)\n",
    "    cv2.imshow(\"gray1\", gray)\n",
    "\n",
    "    gray = cv2.equalizeHist(gray)\n",
    "\n",
    "    cv2.imshow(\"gray2\", gray)\n",
    "\n",
    "    return image, gray\n",
    "\n",
    "\n",
    "face_cascade = cv2.CascadeClassifier(\"data/haarcascade_frontalface_alt2.xml\")\n",
    "eys_cascade = cv2.CascadeClassifier(\"data/haarcascade_eye_tree_eyeglasses.xml\")\n",
    "\n",
    "image, gray = preprocessing()\n",
    "\n",
    "if image is None: raise Exception(\"사진 읽기 에러\")\n",
    "\n",
    "faces = face_cascade.detectMultiScale(gray, 1.1, 2, 0, (100, 100))\n",
    "\n",
    "if faces.any():\n",
    "\n",
    "    x, y, w, h = faces[0]\n",
    "\n",
    "    face_image = image[y:y + h, x:x + w]\n",
    "\n",
    "    eyes = eys_cascade.detectMultiScale(face_image, 1.15, 7, 0, (25, 20))\n",
    "\n",
    "    if len(eyes) == 2:\n",
    "        for ex, ey, ew, eh in eyes:\n",
    "            center = (x + ex + ew // 2, y + ey + eh // 2)\n",
    "            cv2.circle(image, center, 10, (0, 255, 0), 2)\n",
    "\n",
    "\n",
    "    else:\n",
    "        print(\"눈 미검출\")\n",
    "\n",
    "    cv2.rectangle(image, faces[0], (255, 0, 0), 4)\n",
    "    cv2.imshow(\"MyFace\", image)\n",
    "\n",
    "else:\n",
    "    print(\"얼굴 미검출\")\n",
    "\n",
    "cv2.waitKey(0)\n"
   ],
   "metadata": {
    "collapsed": false,
    "pycharm": {
     "name": "#%%\n"
    }
   }
  },
  {
   "cell_type": "code",
   "execution_count": 18,
   "outputs": [
    {
     "data": {
      "text/plain": "-1"
     },
     "execution_count": 18,
     "metadata": {},
     "output_type": "execute_result"
    }
   ],
   "source": [
    "### 사진 기울기 보정\n",
    "\n",
    "def do_correction_image(image, face_center, eye_centers):\n",
    "    # 양쪽 눈 좌표\n",
    "    pt0, pt1 = eye_centers\n",
    "\n",
    "    if pt0[0] > pt1[0]: pt0, pt1 = pt1, pt0\n",
    "\n",
    "    # 두 좌표간 차분 계산\n",
    "    dx, dy = np.subtract(pt1, pt0).astype(float)\n",
    "\n",
    "    # 역탄젠트로 기울기 계산\n",
    "    angle = cv2.fastAtan2(dy, dx)\n",
    "\n",
    "    # 계산된 기울기만큼 이미지 회전하기\n",
    "    rot = cv2.getRotationMatrix2D(face_center, angle, 1)\n",
    "\n",
    "    # 회전된 이미지를 원래 이미지 크기로 자르기\n",
    "    size = image.shape[1::-1]\n",
    "\n",
    "    # 보정된 이미지 생성\n",
    "    correction_image = cv2.warpAffine(image, rot, size, cv2.INTER_CUBIC)\n",
    "\n",
    "    # 눈 위치 보정\n",
    "    eye_centers = np.expand_dims(eye_centers, axis=0)\n",
    "    correction_centers = cv2.transform(eye_centers, rot)\n",
    "    correction_centers = np.squeeze(correction_centers, axis=0)\n",
    "\n",
    "    return correction_image, correction_centers\n",
    "\n",
    "# 인식률을 높이기 위한 전처리\n",
    "def preprocessing():\n",
    "    # 분석하기 위한 이미지 불러오기\n",
    "    image = cv2.imread(\"image/image2.jpg\", cv2.IMREAD_COLOR)\n",
    "\n",
    "    # 이미지가 존재하지 안으면, 에러 반환\n",
    "    if image is None: return None, None\n",
    "\n",
    "    # 이미지 크기 사이즈 변경하기\n",
    "    image = cv2.resize(image, (700, 700))\n",
    "\n",
    "    # 흑백사진으로 변경\n",
    "    gray = cv2.cvtColor(image, cv2.COLOR_BGR2GRAY)\n",
    "\n",
    "    # 변환한 흑백사진으로부터 히스토그램 평활화\n",
    "    gray = cv2.equalizeHist(gray)\n",
    "\n",
    "    return image, gray\n",
    "\n",
    "\n",
    "# 학습된 얼굴 정면검출기 사용하기\n",
    "face_cascade = cv2.CascadeClassifier(\"data/haarcascade_frontalface_alt2.xml\")\n",
    "\n",
    "# 학습된 눈 검출기 사용하기\n",
    "eye_cascade = cv2.CascadeClassifier(\"data/haarcascade_eye_tree_eyeglasses.xml\")\n",
    "\n",
    "# 인식률을 높이기 위한 전처리 함수 호출\n",
    "image, gray = preprocessing()  # 전처리\n",
    "\n",
    "if image is None: raise Exception(\"영상 파일 읽기 에러\")\n",
    "\n",
    "faces = face_cascade.detectMultiScale(gray, 1.1, 2, 0, (100, 100))\n",
    "\n",
    "# 얼굴이 검출되었다면,\n",
    "if faces.any():\n",
    "\n",
    "    x, y, w, h = faces[0]\n",
    "\n",
    "    face_image = image[y:y + h, x:x + w]\n",
    "\n",
    "    eyes = eye_cascade.detectMultiScale(face_image, 1.15, 7, 0, (25, 20))\n",
    "\n",
    "    # 눈을 찾을 수 있다면,\n",
    "    if len(eyes) == 2:\n",
    "        face_center = (int(x + w // 2), int(y + h // 2))\n",
    "\n",
    "        eye_centers = [[x + ex + ew // 2, y + ey + eh // 2] for ex, ey, ew, eh in eyes]\n",
    "\n",
    "        correction_image, correction_center = do_correction_image(image, face_center, eye_centers)\n",
    "\n",
    "        # 보정된 눈 좌표 그리기\n",
    "        cv2.circle(correction_image, tuple(correction_center[0]), 5, (0, 255, 0), 2)  # 보정 눈 좌표\n",
    "        cv2.circle(correction_image, tuple(correction_center[1]), 5, (0, 255, 0), 2)  # 보정 눈 좌표\n",
    "\n",
    "        cv2.circle(correction_image, face_center, 3, (0, 0, 255), 2)  # 얼굴 중심 좌표\n",
    "\n",
    "        cv2.imshow(\"MyFace_Edit\", correction_image)\n",
    "\n",
    "    else:\n",
    "        print(\"눈 미검출\")\n",
    "\n",
    "else:\n",
    "    print(\"얼굴 미검출\")\n",
    "\n",
    "cv2.waitKey(0)"
   ],
   "metadata": {
    "collapsed": false,
    "pycharm": {
     "name": "#%%\n"
    }
   }
  },
  {
   "cell_type": "code",
   "execution_count": null,
   "outputs": [],
   "source": [],
   "metadata": {
    "collapsed": false,
    "pycharm": {
     "name": "#%%\n"
    }
   }
  }
 ],
 "metadata": {
  "kernelspec": {
   "display_name": "Python 3",
   "language": "python",
   "name": "python3"
  },
  "language_info": {
   "codemirror_mode": {
    "name": "ipython",
    "version": 2
   },
   "file_extension": ".py",
   "mimetype": "text/x-python",
   "name": "python",
   "nbconvert_exporter": "python",
   "pygments_lexer": "ipython2",
   "version": "2.7.6"
  }
 },
 "nbformat": 4,
 "nbformat_minor": 0
}