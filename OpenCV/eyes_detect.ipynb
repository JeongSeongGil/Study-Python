{
 "cells": [
  {
   "cell_type": "code",
   "execution_count": 9,
   "outputs": [
    {
     "data": {
      "text/plain": "-1"
     },
     "execution_count": 9,
     "metadata": {},
     "output_type": "execute_result"
    }
   ],
   "source": [
    "import cv2\n",
    "\n",
    "def preprocessing():\n",
    "    image = cv2.imread(\"image/image2.png\")\n",
    "\n",
    "    if image is None: return None, None\n",
    "\n",
    "    gray = cv2.cvtColor(image, cv2.COLOR_BGR2GRAY)\n",
    "    cv2.imshow(\"gray1\", gray)\n",
    "\n",
    "    gray = cv2.equalizeHist(gray)\n",
    "\n",
    "    cv2.imshow(\"gray2\", gray)\n",
    "\n",
    "    return image, gray\n",
    "\n",
    "\n",
    "face_cascade = cv2.CascadeClassifier(\"data/haarcascade_frontalface_alt2.xml\")\n",
    "eys_cascade = cv2.CascadeClassifier(\"data/haarcascade_eye_tree_eyeglasses.xml\")\n",
    "\n",
    "image, gray = preprocessing()\n",
    "\n",
    "\n",
    "if image is None: raise Exception(\"사진 읽기 에러\")\n",
    "\n",
    "\n",
    "faces = face_cascade.detectMultiScale(gray, 1.1, 2, 0, (100, 100))\n",
    "\n",
    "if faces.any():\n",
    "\n",
    "    x, y, w, h = faces[0]\n",
    "\n",
    "    face_image = image[y:y+h, x:x+w]\n",
    "\n",
    "\n",
    "    eyes = eys_cascade.detectMultiScale(face_image, 1.15, 7, 0, (25, 20))\n",
    "\n",
    "\n",
    "    if len(eyes) == 2:\n",
    "        for ex, ey, ew, eh in eyes:\n",
    "\n",
    "            center = (x + ex + ew // 2, y + ey + eh // 2)\n",
    "            cv2.circle(image, center, 10, (0, 255, 0), 2)\n",
    "\n",
    "\n",
    "    else:\n",
    "        print(\"눈 미검출\")\n",
    "\n",
    "    cv2.rectangle(image, faces[0], (255, 0, 0), 4)\n",
    "    cv2.imshow(\"MyFace\", image)\n",
    "\n",
    "else:\n",
    "    print(\"얼굴 미검출\")\n",
    "\n",
    "cv2.waitKey(0)\n"
   ],
   "metadata": {
    "collapsed": false,
    "pycharm": {
     "name": "#%%\n"
    }
   }
  },
  {
   "cell_type": "code",
   "execution_count": null,
   "outputs": [],
   "source": [],
   "metadata": {
    "collapsed": false,
    "pycharm": {
     "name": "#%%\n"
    }
   }
  }
 ],
 "metadata": {
  "kernelspec": {
   "display_name": "Python 3",
   "language": "python",
   "name": "python3"
  },
  "language_info": {
   "codemirror_mode": {
    "name": "ipython",
    "version": 2
   },
   "file_extension": ".py",
   "mimetype": "text/x-python",
   "name": "python",
   "nbconvert_exporter": "python",
   "pygments_lexer": "ipython2",
   "version": "2.7.6"
  }
 },
 "nbformat": 4,
 "nbformat_minor": 0
}