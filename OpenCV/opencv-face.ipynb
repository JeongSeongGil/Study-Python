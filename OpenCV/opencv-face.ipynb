{
 "cells": [
  {
   "cell_type": "code",
   "execution_count": 15,
   "metadata": {
    "collapsed": true,
    "pycharm": {
     "name": "#%%\n"
    }
   },
   "outputs": [],
   "source": [
    "import cv2"
   ]
  },
  {
   "cell_type": "code",
   "execution_count": 16,
   "outputs": [
    {
     "data": {
      "text/plain": "-1"
     },
     "execution_count": 16,
     "metadata": {},
     "output_type": "execute_result"
    }
   ],
   "source": [
    "image_path = \"./image/image.png\"\n",
    "\n",
    "## 원본 이미지 읽기\n",
    "image = cv2.imread(image_path, cv2.IMREAD_COLOR)\n",
    "\n",
    "## 이미지 파일의 알파 채널까지 포함해서 읽기\n",
    "unchange = cv2.imread(image_path, cv2.IMREAD_UNCHANGED)\n",
    "\n",
    "cv2.imshow(\"IMREAD_COLOR\", image)\n",
    "cv2.imshow(\"IMREAD_UNCHANGED\", unchange)\n",
    "\n",
    "cv2.waitKey(0)"
   ],
   "metadata": {
    "collapsed": false,
    "pycharm": {
     "name": "#%%\n"
    }
   }
  },
  {
   "cell_type": "code",
   "execution_count": 7,
   "outputs": [
    {
     "name": "stdout",
     "output_type": "stream",
     "text": [
      "1\n"
     ]
    },
    {
     "data": {
      "text/plain": "-1"
     },
     "execution_count": 7,
     "metadata": {},
     "output_type": "execute_result"
    }
   ],
   "source": [
    "import cv2\n",
    "\n",
    "image_path = \"./image/image.png\"\n",
    "\n",
    "## 원본 이미지 읽기\n",
    "image = cv2.imread(image_path, cv2.IMREAD_COLOR)\n",
    "gray = cv2.cvtColor(image, cv2.COLOR_BGR2GRAY)\n",
    "gray = cv2.equalizeHist(gray)\n",
    "\n",
    "if image is None: raise Exception(\"이미지 읽기 실패\")\n",
    "\n",
    "face_cascade = cv2.CascadeClassifier(\"data/haarcascade_frontalface_alt2.xml\")\n",
    "\n",
    "## 이미지 내 모든 얼굴 인식\n",
    "faces = face_cascade.detectMultiScale(gray, 1.1, 5, 0, (100, 100))\n",
    "\n",
    "faceCnt = len(faces)\n",
    "\n",
    "# 인식된 얼굴의 수 출력\n",
    "print(faceCnt)\n",
    "\n",
    "if faceCnt > 0:\n",
    "    for face in faces:\n",
    "        x, y, w, h = face\n",
    "\n",
    "        cv2.rectangle(image, face, (255, 0, 0), 4)\n",
    "\n",
    "else:\n",
    "    print(\"얼굴 미검출\")\n",
    "\n",
    "cv2.imshow(\"MyFace\", image)\n",
    "\n",
    "cv2.waitKey(0)"
   ],
   "metadata": {
    "collapsed": false,
    "pycharm": {
     "name": "#%%\n"
    }
   }
  },
  {
   "cell_type": "code",
   "execution_count": 3,
   "outputs": [
    {
     "name": "stdout",
     "output_type": "stream",
     "text": [
      "faceCnt : 1\n"
     ]
    },
    {
     "ename": "NameError",
     "evalue": "name 'face_image' is not defined",
     "output_type": "error",
     "traceback": [
      "\u001B[1;31m---------------------------------------------------------------------------\u001B[0m",
      "\u001B[1;31mNameError\u001B[0m                                 Traceback (most recent call last)",
      "Input \u001B[1;32mIn [3]\u001B[0m, in \u001B[0;36m<cell line: 20>\u001B[1;34m()\u001B[0m\n\u001B[0;32m     22\u001B[0m x, y, w, h \u001B[38;5;241m=\u001B[39m face\n\u001B[0;32m     23\u001B[0m mosaic_rate \u001B[38;5;241m=\u001B[39m \u001B[38;5;241m30\u001B[39m\n\u001B[1;32m---> 25\u001B[0m face_image \u001B[38;5;241m=\u001B[39m cv2\u001B[38;5;241m.\u001B[39mresize(\u001B[43mface_image\u001B[49m, (w \u001B[38;5;241m/\u001B[39m\u001B[38;5;241m/\u001B[39m mosaic_rate, h \u001B[38;5;241m/\u001B[39m\u001B[38;5;241m/\u001B[39m mosaic_rate))\n\u001B[0;32m     26\u001B[0m face_image \u001B[38;5;241m=\u001B[39m cv2\u001B[38;5;241m.\u001B[39mresize(face_image, (w, h), interpolation\u001B[38;5;241m=\u001B[39mcv2\u001B[38;5;241m.\u001B[39mINTER_AREA)\n\u001B[0;32m     28\u001B[0m image[y:y \u001B[38;5;241m+\u001B[39m h, x:x \u001B[38;5;241m+\u001B[39m w] \u001B[38;5;241m=\u001B[39m face_image\n",
      "\u001B[1;31mNameError\u001B[0m: name 'face_image' is not defined"
     ]
    }
   ],
   "source": [
    "### Face Mosaic\n",
    "import cv2\n",
    "\n",
    "image_path = \"./image/image1.png\"\n",
    "\n",
    "## 원본 이미지 읽기\n",
    "image = cv2.imread(image_path, cv2.IMREAD_COLOR)\n",
    "\n",
    "gray = cv2.cvtColor(image, cv2.COLOR_BGRA2GRAY)\n",
    "gray = cv2.equalizeHist(gray)\n",
    "\n",
    "if image is None: raise Exception(\"이미지 읽기 실패\")\n",
    "\n",
    "face_cascade = cv2.CascadeClassifier(\"data/haarcascade_frontalface_alt2.xml\")\n",
    "faces = face_cascade.detectMultiScale(gray, 1.1, 5, 0, (100, 100))\n",
    "\n",
    "faceCnt = len(faces)\n",
    "print(\"faceCnt : \" + str(faceCnt))\n",
    "\n",
    "if faceCnt > 0:\n",
    "    for face in faces:\n",
    "        x, y, w, h = face\n",
    "        mosaic_rate = 30\n",
    "\n",
    "        face_image = cv2.resize(face_image, (w // mosaic_rate, h // mosaic_rate))\n",
    "        face_image = cv2.resize(face_image, (w, h), interpolation=cv2.INTER_AREA)\n",
    "\n",
    "        image[y:y + h, x:x + w] = face_image\n",
    "\n",
    "    cv2.imwrite(\"./result/my_image_mosaic.jpg\", image)\n",
    "\n",
    "    cv2.imshow(\"mosaic_image\", cv2.imread(\"./result/my_image_mosaic.jpg\", cv2.IMREAD_COLOR))\n",
    "\n",
    "else:\n",
    "    print(\"얼굴 미검출\")\n",
    "\n",
    "cv2.waitKey(0)"
   ],
   "metadata": {
    "collapsed": false,
    "pycharm": {
     "name": "#%%\n"
    }
   }
  },
  {
   "cell_type": "code",
   "execution_count": 1,
   "outputs": [
    {
     "name": "stdout",
     "output_type": "stream",
     "text": [
      "얼굴 미검출\n"
     ]
    },
    {
     "data": {
      "text/plain": "-1"
     },
     "execution_count": 1,
     "metadata": {},
     "output_type": "execute_result"
    }
   ],
   "source": [
    "import cv2\n",
    "\n",
    "image = cv2.imread(\"./image/image.png\", cv2.IMREAD_COLOR)\n",
    "\n",
    "gray = cv2.cvtColor(image, cv2.COLOR_BGRA2GRAY)\n",
    "\n",
    "gray = cv2.equalizeHist(gray)\n",
    "\n",
    "crown_image = cv2.imread(\"./image/crown.png\")\n",
    "\n",
    "if image is None: raise Exception(\"이미지 읽기 실패\")\n",
    "\n",
    "face_cascade = cv2.CascadeClassifier(\"data/haarcascade_frontalface_alt2.xml\")\n",
    "\n",
    "faces = face_cascade.detectMultiScale(gray, 1.1, 5, 0, (100, 100))\n",
    "\n",
    "face_cnt = len(faces)\n",
    "\n",
    "if face_cnt > 0:\n",
    "    for face in faces:\n",
    "        x, y, w, h = face\n",
    "        face_image = cv2.resize(crown_image, (w, h), interpolation=cv2.INTER_AREA)\n",
    "\n",
    "        image[140: 140 + h, x: x + w] = face_image\n",
    "\n",
    "        cv2.imwrite(\"./result/image_emoticon.jpg\", image)\n",
    "\n",
    "        cv2.imshow(\"result_image\", cv2.imread(\"./result/image_emoticon.jpg\", cv2.IMREAD_COLOR))\n",
    "\n",
    "\n",
    "else:\n",
    "    print(\"얼굴 미검출\")\n",
    "\n",
    "cv2.waitKey(0)"
   ],
   "metadata": {
    "collapsed": false,
    "pycharm": {
     "name": "#%%\n"
    }
   }
  },
  {
   "cell_type": "code",
   "execution_count": 1,
   "outputs": [],
   "source": [
    "### Mp4\n",
    "\n",
    "import cv2\n",
    "\n",
    "# 학습된 얼굴 검출기 사용\n",
    "face_cascade = cv2.CascadeClassifier(\"data/haarcascade_frontalface_alt2.xml\")\n",
    "\n",
    "cam = cv2.VideoCapture(\"mp4/bts.mp4\")\n",
    "\n",
    "while True:\n",
    "    ret, movie_image = cam.read()\n",
    "\n",
    "    # 동영상으로 프레임(이미지) 받기\n",
    "    if ret is True:\n",
    "\n",
    "        # 흑백으로 변경\n",
    "        gray = cv2.cvtColor(movie_image, cv2.COLOR_BGR2GRAY)\n",
    "        # 히스토그램 평활화\n",
    "        gray = cv2.equalizeHist(gray)\n",
    "\n",
    "        # 얼굴 인식\n",
    "        faces = face_cascade.detectMultiScale(gray, 1.5, 5, 0, (20, 20))\n",
    "\n",
    "        for face in faces:\n",
    "            # 위치 값\n",
    "            x, y, w, h = face\n",
    "\n",
    "            # 얼굴 영역 가져오기\n",
    "            face_image = movie_image[y:y + h, x: x + w]\n",
    "\n",
    "            mosaic_rate = 30\n",
    "            # 픽셀 확대\n",
    "            face_image = cv2.resize(face_image, (w // mosaic_rate, h // mosaic_rate))\n",
    "\n",
    "            # 얼굴 위치에 확대한 이미지 덮어쓰기\n",
    "            face_image = cv2.resize(face_image, (w, h), interpolation=cv2.INTER_AREA)\n",
    "\n",
    "            # 원본이미지에 모자이크 처리한 얼굴 이미지 붙이기\n",
    "            movie_image[y: y + h, x:x + w] = face_image\n",
    "\n",
    "            # 얼굴 검출 사각형 그리기\n",
    "            cv2.rectangle(movie_image, face, (255, 0, 0), 4)\n",
    "        # 사이즈 변경된 이미지로 출력\n",
    "        cv2.imshow(\"movie_mosaic\", movie_image)\n",
    "    if cv2.waitKey(1) > 0:\n",
    "        break\n",
    "\n"
   ],
   "metadata": {
    "collapsed": false,
    "pycharm": {
     "name": "#%%\n"
    }
   }
  }
 ],
 "metadata": {
  "kernelspec": {
   "display_name": "Python 3",
   "language": "python",
   "name": "python3"
  },
  "language_info": {
   "codemirror_mode": {
    "name": "ipython",
    "version": 2
   },
   "file_extension": ".py",
   "mimetype": "text/x-python",
   "name": "python",
   "nbconvert_exporter": "python",
   "pygments_lexer": "ipython2",
   "version": "2.7.6"
  }
 },
 "nbformat": 4,
 "nbformat_minor": 0
}