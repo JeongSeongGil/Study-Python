{
 "cells": [
  {
   "cell_type": "code",
   "execution_count": 15,
   "metadata": {
    "collapsed": true,
    "pycharm": {
     "name": "#%%\n"
    }
   },
   "outputs": [],
   "source": [
    "import cv2"
   ]
  },
  {
   "cell_type": "code",
   "execution_count": 16,
   "outputs": [
    {
     "data": {
      "text/plain": "-1"
     },
     "execution_count": 16,
     "metadata": {},
     "output_type": "execute_result"
    }
   ],
   "source": [
    "image_path = \"./image/image.png\"\n",
    "\n",
    "## 원본 이미지 읽기\n",
    "image = cv2.imread(image_path, cv2.IMREAD_COLOR)\n",
    "\n",
    "## 이미지 파일의 알파 채널까지 포함해서 읽기\n",
    "unchange = cv2.imread(image_path, cv2.IMREAD_UNCHANGED)\n",
    "\n",
    "cv2.imshow(\"IMREAD_COLOR\", image)\n",
    "cv2.imshow(\"IMREAD_UNCHANGED\", unchange)\n",
    "\n",
    "cv2.waitKey(0)"
   ],
   "metadata": {
    "collapsed": false,
    "pycharm": {
     "name": "#%%\n"
    }
   }
  },
  {
   "cell_type": "code",
   "execution_count": 29,
   "outputs": [
    {
     "name": "stdout",
     "output_type": "stream",
     "text": [
      "1\n"
     ]
    },
    {
     "data": {
      "text/plain": "-1"
     },
     "execution_count": 29,
     "metadata": {},
     "output_type": "execute_result"
    }
   ],
   "source": [
    "import cv2\n",
    "image_path = \"./image/image.png\"\n",
    "\n",
    "## 원본 이미지 읽기\n",
    "image = cv2.imread(image_path, cv2.IMREAD_COLOR)\n",
    "gray = cv2.cvtColor(image, cv2.COLOR_BGR2GRAY)\n",
    "gray = cv2.equalizeHist(gray)\n",
    "\n",
    "if image is None: raise Exception(\"이미지 읽기 실패\")\n",
    "\n",
    "face_cascade = cv2.CascadeClassifier(\"data/haarcascade_frontalface_alt2.xml\")\n",
    "\n",
    "## 이미지 내 모든 얼굴 인식\n",
    "faces = face_cascade.detectMultiScale(gray, 1.1, 5, 0, (100, 100))\n",
    "\n",
    "faceCnt = len(faces)\n",
    "\n",
    "# 인식된 얼굴의 수 출력\n",
    "print(faceCnt)\n",
    "\n",
    "if faceCnt > 0:\n",
    "    for face in faces:\n",
    "        x, y, w, h = face\n",
    "\n",
    "        cv2.rectangle(image, face, (255, 0, 0), 4)\n",
    "\n",
    "else:\n",
    "    print(\"얼굴 미검출\")\n",
    "\n",
    "cv2.imshow(\"MyFace\", image)\n",
    "\n",
    "cv2.waitKey(0)"
   ],
   "metadata": {
    "collapsed": false,
    "pycharm": {
     "name": "#%%\n"
    }
   }
  },
  {
   "cell_type": "code",
   "execution_count": 31,
   "outputs": [
    {
     "name": "stdout",
     "output_type": "stream",
     "text": [
      "faceCnt : 1\n"
     ]
    },
    {
     "data": {
      "text/plain": "-1"
     },
     "execution_count": 31,
     "metadata": {},
     "output_type": "execute_result"
    }
   ],
   "source": [
    "### Face Mosaic\n",
    "import cv2\n",
    "\n",
    "image_path = \"./image/image.png\"\n",
    "\n",
    "## 원본 이미지 읽기\n",
    "image = cv2.imread(image_path, cv2.IMREAD_COLOR)\n",
    "\n",
    "gray = cv2.cvtColor(image, cv2.COLOR_BGRA2GRAY)\n",
    "gray = cv2.equalizeHist(gray)\n",
    "\n",
    "if image is None: raise Exception(\"이미지 읽기 실패\")\n",
    "\n",
    "face_cascade = cv2.CascadeClassifier(\"data/haarcascade_frontalface_alt2.xml\")\n",
    "faces = face_cascade.detectMultiScale(gray, 1.1, 5, 0, (100, 100))\n",
    "\n",
    "faceCnt = len(faces)\n",
    "print(\"faceCnt : \" + str(faceCnt))\n",
    "\n",
    "if faceCnt > 0:\n",
    "    for face in faces:\n",
    "        x, y, w, h = face\n",
    "        mosaic_rate = 30\n",
    "\n",
    "        face_image = cv2.resize(face_image, (w // mosaic_rate, h // mosaic_rate))\n",
    "        face_image = cv2.resize(face_image, (w, h), interpolation=cv2.INTER_AREA)\n",
    "\n",
    "        image[y:y + h, x:x + w] = face_image\n",
    "\n",
    "    cv2.imwrite(\"./result/my_image_mosaic.jpg\", image)\n",
    "\n",
    "    cv2.imshow(\"mosaic_image\", cv2.imread(\"./result/my_image_mosaic.jpg\", cv2.IMREAD_COLOR))\n",
    "\n",
    "else:\n",
    "    print(\"얼굴 미검출\")\n",
    "\n",
    "cv2.waitKey(0)"
   ],
   "metadata": {
    "collapsed": false,
    "pycharm": {
     "name": "#%%\n"
    }
   }
  },
  {
   "cell_type": "code",
   "execution_count": null,
   "outputs": [],
   "source": [],
   "metadata": {
    "collapsed": false,
    "pycharm": {
     "name": "#%%\n"
    }
   }
  }
 ],
 "metadata": {
  "kernelspec": {
   "display_name": "Python 3",
   "language": "python",
   "name": "python3"
  },
  "language_info": {
   "codemirror_mode": {
    "name": "ipython",
    "version": 2
   },
   "file_extension": ".py",
   "mimetype": "text/x-python",
   "name": "python",
   "nbconvert_exporter": "python",
   "pygments_lexer": "ipython2",
   "version": "2.7.6"
  }
 },
 "nbformat": 4,
 "nbformat_minor": 0
}