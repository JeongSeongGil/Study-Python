{
 "cells": [
  {
   "cell_type": "code",
   "execution_count": 1,
   "metadata": {},
   "outputs": [
    {
     "name": "stdout",
     "output_type": "stream",
     "text": [
      " * Serving Flask app \"__main__\" (lazy loading)\n",
      " * Environment: production\n",
      "   WARNING: This is a development server. Do not use it in a production deployment.\n",
      "   Use a production WSGI server instead.\n",
      " * Debug mode: off\n"
     ]
    },
    {
     "name": "stderr",
     "output_type": "stream",
     "text": [
      " * Running on http://127.0.0.1:5000/ (Press CTRL+C to quit)\n",
      "127.0.0.1 - - [23/Sep/2021 12:59:17] \"\u001b[37mGET / HTTP/1.1\u001b[0m\" 200 -\n",
      "127.0.0.1 - - [23/Sep/2021 12:59:17] \"\u001b[33mGET /favicon.ico HTTP/1.1\u001b[0m\" 404 -\n",
      "127.0.0.1 - - [23/Sep/2021 12:59:21] \"\u001b[37mGET / HTTP/1.1\u001b[0m\" 200 -\n"
     ]
    }
   ],
   "source": [
    "from flask import Flask # Flask 모듈 불러오기\n",
    "app = Flask(__name__) # Flask객체를 app 변수에 할당\n",
    "\n",
    "@app.route(\"/\") # 라우팅 경로를 설정 [ \"/\" 경로를 호출했을 때 함수가 실행 ]\n",
    "\n",
    "def hello(): # 해당 라우팅 경로로 요청이 오면 실행할 함수\n",
    "    return \"<h1>Hello World!<h1>\"\n",
    "\n",
    "if __name__ == \"__main__\": # 메인 모듈이 실행 == 플라스크 서버 구동\n",
    "    app.run()"
   ]
  },
  {
   "cell_type": "code",
   "execution_count": 22,
   "metadata": {},
   "outputs": [
    {
     "name": "stdout",
     "output_type": "stream",
     "text": [
      "/profile/flask\n",
      " * Serving Flask app \"__main__\" (lazy loading)\n",
      " * Environment: production\n",
      "   WARNING: This is a development server. Do not use it in a production deployment.\n",
      "   Use a production WSGI server instead.\n",
      " * Debug mode: off\n"
     ]
    },
    {
     "name": "stderr",
     "output_type": "stream",
     "text": [
      " * Running on http://127.0.0.1:5000/ (Press CTRL+C to quit)\n",
      "127.0.0.1 - - [23/Sep/2021 13:27:50] \"\u001b[37mGET / HTTP/1.1\u001b[0m\" 200 -\n",
      "127.0.0.1 - - [23/Sep/2021 13:27:56] \"\u001b[33mGET /profile HTTP/1.1\u001b[0m\" 404 -\n",
      "127.0.0.1 - - [23/Sep/2021 13:27:59] \"\u001b[37mGET /profile/user HTTP/1.1\u001b[0m\" 200 -\n",
      "127.0.0.1 - - [23/Sep/2021 13:28:04] \"\u001b[37mGET /message/1 HTTP/1.1\u001b[0m\" 200 -\n"
     ]
    }
   ],
   "source": [
    "# 플라스크 동적 페이지 라우팅\n",
    "from flask import url_for\n",
    "app = Flask(__name__)\n",
    "\n",
    "@app.route(\"/\")\n",
    "def hello():\n",
    "    return \"Main page\"\n",
    "    \n",
    "\n",
    "@app.route('/hello') # hello 경로로 들어가면 연결된 뷰 함수가 실행되어 지정한 문자열을 출력\n",
    "def hello_flask():\n",
    "    return \"Hello Blog!\"\n",
    "\n",
    "@app.route('/profile/<username>') # profile/(value)  / valye값에 따라 페이지가 동적 접속\n",
    "def get_profile(username):\n",
    "    return \"profile :\" + username\n",
    "\n",
    "@app.route(\"/message/<int:message_id>\") # <type:value>\n",
    "def get_message(message_id):\n",
    "    return \"message_id : {0}\".format(message_id)\n",
    "if __name__ == '__main__':\n",
    "    with app.test_request_context():\n",
    "        print (url_for('get_profile', username='flask')) # 반환되는 url을 확인\n",
    "        app.run()"
   ]
  },
  {
   "cell_type": "code",
   "execution_count": 1,
   "metadata": {},
   "outputs": [
    {
     "name": "stdout",
     "output_type": "stream",
     "text": [
      " * Serving Flask app \"__main__\" (lazy loading)\n",
      " * Environment: production\n",
      "   WARNING: This is a development server. Do not use it in a production deployment.\n",
      "   Use a production WSGI server instead.\n",
      " * Debug mode: off\n"
     ]
    },
    {
     "name": "stderr",
     "output_type": "stream",
     "text": [
      " * Running on http://127.0.0.1:5000/ (Press CTRL+C to quit)\n",
      "127.0.0.1 - - [23/Sep/2021 14:00:42] \"\u001b[37mGET / HTTP/1.1\u001b[0m\" 200 -\n"
     ]
    }
   ],
   "source": [
    "# HTML / 플라스크는 마이크로 프레임워크기 떼문에 프론트엔드와 백엔드를 동시에 처리하지 못한다.\n",
    "# 플라스크는 요청을 처리하는 등 서버의 백엔드만 담당 사용자에게 보여지는 부분은 프론트엔드 언어를 사용\n",
    "from flask import Flask, render_template # html 파일 불러오기\n",
    "app = Flask(__name__)\n",
    "\n",
    "@app.route(\"/\")\n",
    "def hello():\n",
    "    return render_template('input.html')\n",
    "if __name__ == \"__main__\":\n",
    "        app.run()"
   ]
  },
  {
   "cell_type": "code",
   "execution_count": null,
   "metadata": {},
   "outputs": [],
   "source": []
  }
 ],
 "metadata": {
  "kernelspec": {
   "display_name": "Python 3",
   "language": "python",
   "name": "python3"
  },
  "language_info": {
   "codemirror_mode": {
    "name": "ipython",
    "version": 3
   },
   "file_extension": ".py",
   "mimetype": "text/x-python",
   "name": "python",
   "nbconvert_exporter": "python",
   "pygments_lexer": "ipython3",
   "version": "3.8.5"
  }
 },
 "nbformat": 4,
 "nbformat_minor": 4
}
